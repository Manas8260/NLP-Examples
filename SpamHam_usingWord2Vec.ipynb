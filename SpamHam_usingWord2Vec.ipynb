{
 "cells": [
  {
   "cell_type": "code",
   "execution_count": 39,
   "id": "7eb8bf5e-0c86-40ac-ba31-292280c8eaea",
   "metadata": {},
   "outputs": [],
   "source": [
    "import nltk"
   ]
  },
  {
   "cell_type": "code",
   "execution_count": 1,
   "id": "ef2ddbb0-860a-4a5c-be15-f42e2fb61f6d",
   "metadata": {},
   "outputs": [],
   "source": [
    "import pandas as pd\n",
    "msgs = pd.read_csv('Data/SMSSpamCollection.txt',sep = '\\t',names = ['label','messages'])"
   ]
  },
  {
   "cell_type": "code",
   "execution_count": 32,
   "id": "7779456b-f286-49e4-be62-965a926fac66",
   "metadata": {},
   "outputs": [
    {
     "data": {
      "text/html": [
       "<div>\n",
       "<style scoped>\n",
       "    .dataframe tbody tr th:only-of-type {\n",
       "        vertical-align: middle;\n",
       "    }\n",
       "\n",
       "    .dataframe tbody tr th {\n",
       "        vertical-align: top;\n",
       "    }\n",
       "\n",
       "    .dataframe thead th {\n",
       "        text-align: right;\n",
       "    }\n",
       "</style>\n",
       "<table border=\"1\" class=\"dataframe\">\n",
       "  <thead>\n",
       "    <tr style=\"text-align: right;\">\n",
       "      <th></th>\n",
       "      <th>label</th>\n",
       "      <th>messages</th>\n",
       "    </tr>\n",
       "  </thead>\n",
       "  <tbody>\n",
       "    <tr>\n",
       "      <th>0</th>\n",
       "      <td>ham</td>\n",
       "      <td>Go until jurong point, crazy.. Available only ...</td>\n",
       "    </tr>\n",
       "  </tbody>\n",
       "</table>\n",
       "</div>"
      ],
      "text/plain": [
       "  label                                           messages\n",
       "0   ham  Go until jurong point, crazy.. Available only ..."
      ]
     },
     "execution_count": 32,
     "metadata": {},
     "output_type": "execute_result"
    }
   ],
   "source": [
    "msgs.head(1)"
   ]
  },
  {
   "cell_type": "code",
   "execution_count": 31,
   "id": "e7f144f4-1bc5-4ab4-8e85-c2bef410d6e0",
   "metadata": {},
   "outputs": [
    {
     "data": {
      "text/plain": [
       "(5572, 2)"
      ]
     },
     "execution_count": 31,
     "metadata": {},
     "output_type": "execute_result"
    }
   ],
   "source": [
    "msgs.shape"
   ]
  },
  {
   "cell_type": "code",
   "execution_count": 3,
   "id": "506d25f7-10d3-467a-bfb8-a554152f160e",
   "metadata": {},
   "outputs": [],
   "source": [
    "import gensim.downloader as api\n",
    "wv = api.load('word2vec-google-news-300')"
   ]
  },
  {
   "cell_type": "code",
   "execution_count": 4,
   "id": "1da4346d-4bc2-4b4f-a154-0926132bfc31",
   "metadata": {},
   "outputs": [],
   "source": [
    "from nltk.stem import WordNetLemmatizer\n",
    "lem = WordNetLemmatizer()"
   ]
  },
  {
   "cell_type": "code",
   "execution_count": 40,
   "id": "ccf3b2ed-770e-4050-a9ad-779e5de28964",
   "metadata": {},
   "outputs": [],
   "source": [
    "import re\n",
    "corpus = []\n",
    "for i in range(msgs.shape[0]):\n",
    "    m = re.sub('[^a-zA-Z]',' ',msgs.messages[i])\n",
    "    m = m.lower()\n",
    "    m = m.split()\n",
    "    m = [lem.lemmatize(w) for w in m if w not in nltk.corpus.stopwords.words('english')]\n",
    "    corpus.append(m)"
   ]
  },
  {
   "cell_type": "code",
   "execution_count": 37,
   "id": "e56a2339-5d8b-49cb-bded-07d8b1fa2b6b",
   "metadata": {},
   "outputs": [
    {
     "data": {
      "text/plain": [
       "[[0, [], '645'], [0, [], ':) '], [0, [], ':-) :-)']]"
      ]
     },
     "execution_count": 37,
     "metadata": {},
     "output_type": "execute_result"
    }
   ],
   "source": [
    "[[i,j,k] for i,j,k in zip(list(map(len,corpus)),corpus, msgs['messages']) if i<1]"
   ]
  },
  {
   "cell_type": "code",
   "execution_count": 41,
   "id": "f7899cda-9c6a-4308-b4c4-5f74d4add5bf",
   "metadata": {
    "scrolled": true
   },
   "outputs": [
    {
     "data": {
      "text/plain": [
       "5572"
      ]
     },
     "execution_count": 41,
     "metadata": {},
     "output_type": "execute_result"
    }
   ],
   "source": [
    "len(corpus)"
   ]
  },
  {
   "cell_type": "code",
   "execution_count": 7,
   "id": "c0a252e8-af30-4c26-937e-3fd901ec5af9",
   "metadata": {},
   "outputs": [],
   "source": [
    "from nltk import sent_tokenize\n",
    "from gensim.utils import simple_preprocess"
   ]
  },
  {
   "cell_type": "code",
   "execution_count": 7,
   "id": "7bfef56c-ed57-48a7-bf65-ddbbe367f7f7",
   "metadata": {},
   "outputs": [],
   "source": [
    "v_king = wv['king']"
   ]
  },
  {
   "cell_type": "code",
   "execution_count": 8,
   "id": "7ec31953-e349-4a80-bcd6-04a5975602c9",
   "metadata": {},
   "outputs": [
    {
     "data": {
      "text/plain": [
       "array([ 0.12597656,  0.02978516,  0.00860596,  0.13964844, -0.02563477,\n",
       "       -0.03613281,  0.11181641, -0.19824219,  0.05126953,  0.36328125,\n",
       "       -0.2421875 , -0.30273438, -0.17773438, -0.02490234, -0.16796875,\n",
       "       -0.16992188,  0.03466797,  0.00521851,  0.04638672,  0.12890625],\n",
       "      dtype=float32)"
      ]
     },
     "execution_count": 8,
     "metadata": {},
     "output_type": "execute_result"
    }
   ],
   "source": [
    "v_king[:20]"
   ]
  },
  {
   "cell_type": "code",
   "execution_count": 42,
   "id": "20b4741d-901b-496d-bdf3-22e1c6fb394e",
   "metadata": {},
   "outputs": [],
   "source": [
    "import gensim "
   ]
  },
  {
   "cell_type": "code",
   "execution_count": 43,
   "id": "cf7aed01-6059-4293-bd5d-cd9481ad04e5",
   "metadata": {},
   "outputs": [],
   "source": [
    "model = gensim.models.Word2Vec(corpus)"
   ]
  },
  {
   "cell_type": "code",
   "execution_count": 44,
   "id": "3e59a3e7-9645-4874-8899-8ed3c012028a",
   "metadata": {},
   "outputs": [
    {
     "data": {
      "text/plain": [
       "['u', 'call', 'get', 'ur', 'gt']"
      ]
     },
     "execution_count": 44,
     "metadata": {},
     "output_type": "execute_result"
    }
   ],
   "source": [
    "#get all the vocabulary\n",
    "model.wv.index_to_key[:5]"
   ]
  },
  {
   "cell_type": "code",
   "execution_count": 45,
   "id": "d0296460-88b3-4cd7-9f79-795b7ccb3871",
   "metadata": {},
   "outputs": [
    {
     "data": {
      "text/plain": [
       "5572"
      ]
     },
     "execution_count": 45,
     "metadata": {},
     "output_type": "execute_result"
    }
   ],
   "source": [
    "model.corpus_count"
   ]
  },
  {
   "cell_type": "code",
   "execution_count": 46,
   "id": "1d5a92e8-bfa3-4dd6-b42f-e0d4e14c4446",
   "metadata": {},
   "outputs": [
    {
     "data": {
      "text/plain": [
       "5"
      ]
     },
     "execution_count": 46,
     "metadata": {},
     "output_type": "execute_result"
    }
   ],
   "source": [
    "model.epochs"
   ]
  },
  {
   "cell_type": "code",
   "execution_count": 47,
   "id": "b0647040-3f67-4fb7-be0b-69c21ed754fe",
   "metadata": {},
   "outputs": [
    {
     "data": {
      "text/plain": [
       "[('today', 0.9981989860534668),\n",
       " ('much', 0.9981046319007874),\n",
       " ('better', 0.9980778098106384),\n",
       " ('guy', 0.9980713725090027),\n",
       " ('see', 0.9980678558349609),\n",
       " ('lol', 0.9980594515800476),\n",
       " ('nite', 0.9980431199073792),\n",
       " ('need', 0.9980431199073792),\n",
       " ('life', 0.9980380535125732),\n",
       " ('night', 0.9980355501174927)]"
      ]
     },
     "execution_count": 47,
     "metadata": {},
     "output_type": "execute_result"
    }
   ],
   "source": [
    "model.wv.similar_by_word('kid')"
   ]
  },
  {
   "cell_type": "code",
   "execution_count": 48,
   "id": "68fe2eac-f2b2-4559-a12c-1bfd90553615",
   "metadata": {},
   "outputs": [
    {
     "data": {
      "text/plain": [
       "(100,)"
      ]
     },
     "execution_count": 48,
     "metadata": {},
     "output_type": "execute_result"
    }
   ],
   "source": [
    "model.wv['good'].shape"
   ]
  },
  {
   "cell_type": "code",
   "execution_count": 49,
   "id": "df0989d0-f533-43d9-af18-64ef98900b63",
   "metadata": {},
   "outputs": [],
   "source": [
    "import numpy as np\n",
    "def avgword2vec(doc):\n",
    "    return np.mean([model.wv[word] for word in doc if word in model.wv.index_to_key],axis = 0)"
   ]
  },
  {
   "cell_type": "code",
   "execution_count": 50,
   "id": "ae26dade-e280-4815-8648-b64cede72131",
   "metadata": {},
   "outputs": [],
   "source": [
    "from tqdm import tqdm"
   ]
  },
  {
   "cell_type": "code",
   "execution_count": 51,
   "id": "4b0b39f1-77d1-4d8c-98d5-7be2cd296c29",
   "metadata": {},
   "outputs": [
    {
     "name": "stderr",
     "output_type": "stream",
     "text": [
      "  0%|                                                                                         | 0/5572 [00:00<?, ?it/s]C:\\Users\\user\\AppData\\Local\\Programs\\Python\\Python312\\Lib\\site-packages\\numpy\\core\\fromnumeric.py:3504: RuntimeWarning: Mean of empty slice.\n",
      "  return _methods._mean(a, axis=axis, dtype=dtype,\n",
      "C:\\Users\\user\\AppData\\Local\\Programs\\Python\\Python312\\Lib\\site-packages\\numpy\\core\\_methods.py:129: RuntimeWarning: invalid value encountered in scalar divide\n",
      "  ret = ret.dtype.type(ret / rcount)\n",
      "100%|████████████████████████████████████████████████████████████████████████████| 5572/5572 [00:00<00:00, 9834.44it/s]\n"
     ]
    }
   ],
   "source": [
    "X = []\n",
    "for i in tqdm(range(len(corpus))):\n",
    "    X.append(avgword2vec(corpus[i]))"
   ]
  },
  {
   "cell_type": "code",
   "execution_count": 52,
   "id": "17f7811d-fb92-42a4-a6fd-6df82eeee3c5",
   "metadata": {},
   "outputs": [
    {
     "data": {
      "text/plain": [
       "[array([-0.1775304 ,  0.24896304,  0.09406965,  0.0508584 ,  0.07221805,\n",
       "        -0.6081928 ,  0.14732563,  0.659613  , -0.11782892, -0.09889424,\n",
       "        -0.22404435, -0.35839576, -0.08331276,  0.18858498, -0.02901048,\n",
       "        -0.17775954, -0.04073397, -0.2910158 ,  0.06026304, -0.56266886,\n",
       "         0.11514032,  0.22710273,  0.15198535, -0.15988061, -0.04388602,\n",
       "         0.00337445, -0.1599126 , -0.24025637, -0.29224703,  0.07240939,\n",
       "         0.22931845,  0.00158632,  0.13252102, -0.13570818, -0.23435532,\n",
       "         0.27146098, -0.00263644, -0.30299214, -0.15818618, -0.5009467 ,\n",
       "         0.01714207, -0.2827088 , -0.0324197 , -0.02599226,  0.30644152,\n",
       "        -0.09681254, -0.26865795, -0.16193049,  0.19653524,  0.18030813,\n",
       "         0.06421676, -0.17794698, -0.07246681, -0.04479343, -0.15663256,\n",
       "         0.1528342 ,  0.16692656,  0.11334971, -0.20731919,  0.12365814,\n",
       "        -0.02989821,  0.00953642, -0.12031361, -0.08500946, -0.34587595,\n",
       "         0.1712653 ,  0.04180848,  0.16622983, -0.30146378,  0.32519406,\n",
       "        -0.24303807, -0.03759097,  0.36048418, -0.14523093,  0.2944618 ,\n",
       "         0.08890033,  0.03685211, -0.11508418, -0.3076676 ,  0.11176556,\n",
       "        -0.20828041,  0.06381793, -0.19394697,  0.43324935, -0.07195337,\n",
       "         0.00940473, -0.017593  ,  0.37308237,  0.2982738 , -0.05822374,\n",
       "         0.31848702,  0.14570436,  0.01957288,  0.05469134,  0.4425515 ,\n",
       "         0.28704703,  0.25180197, -0.35010815,  0.02926216,  0.07320712],\n",
       "       dtype=float32),\n",
       " array([-0.16524878,  0.24048726,  0.0967565 ,  0.04970621,  0.06821086,\n",
       "        -0.56754035,  0.14142114,  0.6206177 , -0.11307867, -0.09488504,\n",
       "        -0.20353737, -0.33927265, -0.07346617,  0.17355716, -0.02568461,\n",
       "        -0.16439809, -0.03585425, -0.27179968,  0.05183214, -0.52608144,\n",
       "         0.11303516,  0.21565732,  0.14382705, -0.15500525, -0.03483453,\n",
       "        -0.0014519 , -0.1553941 , -0.22585598, -0.27542856,  0.06394937,\n",
       "         0.2139444 , -0.00323281,  0.1273509 , -0.12952039, -0.21115787,\n",
       "         0.2554598 , -0.00314654, -0.28200486, -0.14870949, -0.4733314 ,\n",
       "         0.00902655, -0.25836432, -0.03015067, -0.02911264,  0.28483343,\n",
       "        -0.09066544, -0.25437102, -0.14344338,  0.18099551,  0.17113164,\n",
       "         0.05698586, -0.16874418, -0.06498146, -0.04022743, -0.13885264,\n",
       "         0.1395886 ,  0.16047354,  0.10859994, -0.19676955,  0.12702943,\n",
       "        -0.03415334,  0.0097047 , -0.10948665, -0.08031503, -0.32644898,\n",
       "         0.16256681,  0.04214031,  0.15988319, -0.28665563,  0.3072183 ,\n",
       "        -0.2303067 , -0.03341113,  0.33925244, -0.13653053,  0.27326235,\n",
       "         0.07799041,  0.03781947, -0.11071029, -0.28529185,  0.10511553,\n",
       "        -0.19697769,  0.05804304, -0.17543955,  0.40871105, -0.06737423,\n",
       "         0.01049704, -0.00927258,  0.34281603,  0.27973616, -0.05449291,\n",
       "         0.2998473 ,  0.13172288,  0.01523325,  0.05232356,  0.42404786,\n",
       "         0.27035677,  0.22615731, -0.32948053,  0.03286891,  0.06430428],\n",
       "       dtype=float32)]"
      ]
     },
     "execution_count": 52,
     "metadata": {},
     "output_type": "execute_result"
    }
   ],
   "source": [
    "X[:2]"
   ]
  },
  {
   "cell_type": "code",
   "execution_count": 53,
   "id": "f003de82-5247-4020-9809-060b80dccb3c",
   "metadata": {},
   "outputs": [
    {
     "data": {
      "text/plain": [
       "100"
      ]
     },
     "execution_count": 53,
     "metadata": {},
     "output_type": "execute_result"
    }
   ],
   "source": [
    "len(X[0])"
   ]
  },
  {
   "cell_type": "code",
   "execution_count": 54,
   "id": "21e092f1-51af-4ad2-a3ef-af0ddc21da89",
   "metadata": {},
   "outputs": [
    {
     "data": {
      "text/plain": [
       "5572"
      ]
     },
     "execution_count": 54,
     "metadata": {},
     "output_type": "execute_result"
    }
   ],
   "source": [
    "len(X)"
   ]
  },
  {
   "cell_type": "code",
   "execution_count": 55,
   "id": "ba86bcb0-8dd5-4aba-87a3-952b64c5e2f5",
   "metadata": {},
   "outputs": [
    {
     "data": {
      "text/plain": [
       "'\\ntl = set()\\nc =0\\nfor i in range(len(X)):\\n    X[i] = np.array(X[i]) \\n    tl.add(X[i].shape)\\n    if X[i].shape == ():\\n        c+=1\\n'"
      ]
     },
     "execution_count": 55,
     "metadata": {},
     "output_type": "execute_result"
    }
   ],
   "source": [
    "'''\n",
    "tl = set()\n",
    "c =0\n",
    "for i in range(len(X)):\n",
    "    X[i] = np.array(X[i]) \n",
    "    tl.add(X[i].shape)\n",
    "    if X[i].shape == ():\n",
    "        c+=1\n",
    "'''"
   ]
  },
  {
   "cell_type": "code",
   "execution_count": 56,
   "id": "78a716f5-690f-460a-9b69-5f5ab07078c6",
   "metadata": {},
   "outputs": [
    {
     "name": "stderr",
     "output_type": "stream",
     "text": [
      "C:\\Users\\user\\AppData\\Local\\Temp\\ipykernel_17188\\3954118245.py:1: FutureWarning: Downcasting behavior in `replace` is deprecated and will be removed in a future version. To retain the old behavior, explicitly call `result.infer_objects(copy=False)`. To opt-in to the future behavior, set `pd.set_option('future.no_silent_downcasting', True)`\n",
      "  y = msgs.label.replace({'ham':1,'spam':0})\n"
     ]
    }
   ],
   "source": [
    "y = msgs.label.replace({'ham':1,'spam':0})\n",
    "y = y.values"
   ]
  },
  {
   "cell_type": "code",
   "execution_count": 57,
   "id": "9a04b056-1845-48dc-829c-45473b8448da",
   "metadata": {},
   "outputs": [
    {
     "data": {
      "text/plain": [
       "(5572,)"
      ]
     },
     "execution_count": 57,
     "metadata": {},
     "output_type": "execute_result"
    }
   ],
   "source": [
    "y.shape"
   ]
  },
  {
   "cell_type": "code",
   "execution_count": 59,
   "id": "4757fdbb-e5e8-465b-b02b-e1f1aad3bf2a",
   "metadata": {},
   "outputs": [
    {
     "data": {
      "text/plain": [
       "(1, 100)"
      ]
     },
     "execution_count": 59,
     "metadata": {},
     "output_type": "execute_result"
    }
   ],
   "source": [
    "X[0].reshape(1,-1).shape"
   ]
  },
  {
   "cell_type": "code",
   "execution_count": 70,
   "id": "454060c0-a5b3-45ab-91ac-db6834d6fb13",
   "metadata": {
    "scrolled": true
   },
   "outputs": [
    {
     "name": "stderr",
     "output_type": "stream",
     "text": [
      "C:\\Users\\user\\AppData\\Local\\Temp\\ipykernel_17188\\1999931954.py:3: FutureWarning: The behavior of DataFrame concatenation with empty or all-NA entries is deprecated. In a future version, this will no longer exclude empty or all-NA columns when determining the result dtypes. To retain the old behavior, exclude the relevant entries before the concat operation.\n",
      "  df = pd.concat([df, pd.DataFrame(X[i].reshape(1,-1))], axis = 0,ignore_index=True)\n"
     ]
    }
   ],
   "source": [
    "df = pd.DataFrame()\n",
    "for i in range(0, len(X)):\n",
    "    df = pd.concat([df, pd.DataFrame(X[i].reshape(1,-1))], axis = 0,ignore_index=True)"
   ]
  },
  {
   "cell_type": "code",
   "execution_count": 71,
   "id": "47a0d32c-b2a3-476a-97d9-9cea3f16c8cc",
   "metadata": {},
   "outputs": [
    {
     "data": {
      "text/html": [
       "<div>\n",
       "<style scoped>\n",
       "    .dataframe tbody tr th:only-of-type {\n",
       "        vertical-align: middle;\n",
       "    }\n",
       "\n",
       "    .dataframe tbody tr th {\n",
       "        vertical-align: top;\n",
       "    }\n",
       "\n",
       "    .dataframe thead th {\n",
       "        text-align: right;\n",
       "    }\n",
       "</style>\n",
       "<table border=\"1\" class=\"dataframe\">\n",
       "  <thead>\n",
       "    <tr style=\"text-align: right;\">\n",
       "      <th></th>\n",
       "      <th>0</th>\n",
       "      <th>1</th>\n",
       "      <th>2</th>\n",
       "      <th>3</th>\n",
       "      <th>4</th>\n",
       "      <th>5</th>\n",
       "      <th>6</th>\n",
       "      <th>7</th>\n",
       "      <th>8</th>\n",
       "      <th>9</th>\n",
       "      <th>...</th>\n",
       "      <th>90</th>\n",
       "      <th>91</th>\n",
       "      <th>92</th>\n",
       "      <th>93</th>\n",
       "      <th>94</th>\n",
       "      <th>95</th>\n",
       "      <th>96</th>\n",
       "      <th>97</th>\n",
       "      <th>98</th>\n",
       "      <th>99</th>\n",
       "    </tr>\n",
       "  </thead>\n",
       "  <tbody>\n",
       "    <tr>\n",
       "      <th>0</th>\n",
       "      <td>-0.177530</td>\n",
       "      <td>0.248963</td>\n",
       "      <td>0.094070</td>\n",
       "      <td>0.050858</td>\n",
       "      <td>0.072218</td>\n",
       "      <td>-0.608193</td>\n",
       "      <td>0.147326</td>\n",
       "      <td>0.659613</td>\n",
       "      <td>-0.117829</td>\n",
       "      <td>-0.098894</td>\n",
       "      <td>...</td>\n",
       "      <td>0.318487</td>\n",
       "      <td>0.145704</td>\n",
       "      <td>0.019573</td>\n",
       "      <td>0.054691</td>\n",
       "      <td>0.442551</td>\n",
       "      <td>0.287047</td>\n",
       "      <td>0.251802</td>\n",
       "      <td>-0.350108</td>\n",
       "      <td>0.029262</td>\n",
       "      <td>0.073207</td>\n",
       "    </tr>\n",
       "    <tr>\n",
       "      <th>1</th>\n",
       "      <td>-0.165249</td>\n",
       "      <td>0.240487</td>\n",
       "      <td>0.096757</td>\n",
       "      <td>0.049706</td>\n",
       "      <td>0.068211</td>\n",
       "      <td>-0.567540</td>\n",
       "      <td>0.141421</td>\n",
       "      <td>0.620618</td>\n",
       "      <td>-0.113079</td>\n",
       "      <td>-0.094885</td>\n",
       "      <td>...</td>\n",
       "      <td>0.299847</td>\n",
       "      <td>0.131723</td>\n",
       "      <td>0.015233</td>\n",
       "      <td>0.052324</td>\n",
       "      <td>0.424048</td>\n",
       "      <td>0.270357</td>\n",
       "      <td>0.226157</td>\n",
       "      <td>-0.329481</td>\n",
       "      <td>0.032869</td>\n",
       "      <td>0.064304</td>\n",
       "    </tr>\n",
       "    <tr>\n",
       "      <th>2</th>\n",
       "      <td>-0.172950</td>\n",
       "      <td>0.240997</td>\n",
       "      <td>0.093098</td>\n",
       "      <td>0.053779</td>\n",
       "      <td>0.063619</td>\n",
       "      <td>-0.593255</td>\n",
       "      <td>0.129455</td>\n",
       "      <td>0.637650</td>\n",
       "      <td>-0.116723</td>\n",
       "      <td>-0.094200</td>\n",
       "      <td>...</td>\n",
       "      <td>0.286681</td>\n",
       "      <td>0.141061</td>\n",
       "      <td>0.020049</td>\n",
       "      <td>0.061058</td>\n",
       "      <td>0.425732</td>\n",
       "      <td>0.279681</td>\n",
       "      <td>0.234716</td>\n",
       "      <td>-0.334138</td>\n",
       "      <td>0.022709</td>\n",
       "      <td>0.061556</td>\n",
       "    </tr>\n",
       "  </tbody>\n",
       "</table>\n",
       "<p>3 rows × 100 columns</p>\n",
       "</div>"
      ],
      "text/plain": [
       "         0         1         2         3         4         5         6   \\\n",
       "0 -0.177530  0.248963  0.094070  0.050858  0.072218 -0.608193  0.147326   \n",
       "1 -0.165249  0.240487  0.096757  0.049706  0.068211 -0.567540  0.141421   \n",
       "2 -0.172950  0.240997  0.093098  0.053779  0.063619 -0.593255  0.129455   \n",
       "\n",
       "         7         8         9   ...        90        91        92        93  \\\n",
       "0  0.659613 -0.117829 -0.098894  ...  0.318487  0.145704  0.019573  0.054691   \n",
       "1  0.620618 -0.113079 -0.094885  ...  0.299847  0.131723  0.015233  0.052324   \n",
       "2  0.637650 -0.116723 -0.094200  ...  0.286681  0.141061  0.020049  0.061058   \n",
       "\n",
       "         94        95        96        97        98        99  \n",
       "0  0.442551  0.287047  0.251802 -0.350108  0.029262  0.073207  \n",
       "1  0.424048  0.270357  0.226157 -0.329481  0.032869  0.064304  \n",
       "2  0.425732  0.279681  0.234716 -0.334138  0.022709  0.061556  \n",
       "\n",
       "[3 rows x 100 columns]"
      ]
     },
     "execution_count": 71,
     "metadata": {},
     "output_type": "execute_result"
    }
   ],
   "source": [
    "df.head(3)"
   ]
  },
  {
   "cell_type": "code",
   "execution_count": 72,
   "id": "e08b4ec3-9992-4060-aded-27aa6047fd85",
   "metadata": {},
   "outputs": [],
   "source": [
    "df['output'] = y"
   ]
  },
  {
   "cell_type": "code",
   "execution_count": 73,
   "id": "93d1c915-ece9-467c-b018-6d79779da0af",
   "metadata": {},
   "outputs": [
    {
     "data": {
      "text/html": [
       "<div>\n",
       "<style scoped>\n",
       "    .dataframe tbody tr th:only-of-type {\n",
       "        vertical-align: middle;\n",
       "    }\n",
       "\n",
       "    .dataframe tbody tr th {\n",
       "        vertical-align: top;\n",
       "    }\n",
       "\n",
       "    .dataframe thead th {\n",
       "        text-align: right;\n",
       "    }\n",
       "</style>\n",
       "<table border=\"1\" class=\"dataframe\">\n",
       "  <thead>\n",
       "    <tr style=\"text-align: right;\">\n",
       "      <th></th>\n",
       "      <th>0</th>\n",
       "      <th>1</th>\n",
       "      <th>2</th>\n",
       "      <th>3</th>\n",
       "      <th>4</th>\n",
       "      <th>5</th>\n",
       "      <th>6</th>\n",
       "      <th>7</th>\n",
       "      <th>8</th>\n",
       "      <th>9</th>\n",
       "      <th>...</th>\n",
       "      <th>91</th>\n",
       "      <th>92</th>\n",
       "      <th>93</th>\n",
       "      <th>94</th>\n",
       "      <th>95</th>\n",
       "      <th>96</th>\n",
       "      <th>97</th>\n",
       "      <th>98</th>\n",
       "      <th>99</th>\n",
       "      <th>output</th>\n",
       "    </tr>\n",
       "  </thead>\n",
       "  <tbody>\n",
       "    <tr>\n",
       "      <th>0</th>\n",
       "      <td>-0.177530</td>\n",
       "      <td>0.248963</td>\n",
       "      <td>0.094070</td>\n",
       "      <td>0.050858</td>\n",
       "      <td>0.072218</td>\n",
       "      <td>-0.608193</td>\n",
       "      <td>0.147326</td>\n",
       "      <td>0.659613</td>\n",
       "      <td>-0.117829</td>\n",
       "      <td>-0.098894</td>\n",
       "      <td>...</td>\n",
       "      <td>0.145704</td>\n",
       "      <td>0.019573</td>\n",
       "      <td>0.054691</td>\n",
       "      <td>0.442551</td>\n",
       "      <td>0.287047</td>\n",
       "      <td>0.251802</td>\n",
       "      <td>-0.350108</td>\n",
       "      <td>0.029262</td>\n",
       "      <td>0.073207</td>\n",
       "      <td>1</td>\n",
       "    </tr>\n",
       "    <tr>\n",
       "      <th>1</th>\n",
       "      <td>-0.165249</td>\n",
       "      <td>0.240487</td>\n",
       "      <td>0.096757</td>\n",
       "      <td>0.049706</td>\n",
       "      <td>0.068211</td>\n",
       "      <td>-0.567540</td>\n",
       "      <td>0.141421</td>\n",
       "      <td>0.620618</td>\n",
       "      <td>-0.113079</td>\n",
       "      <td>-0.094885</td>\n",
       "      <td>...</td>\n",
       "      <td>0.131723</td>\n",
       "      <td>0.015233</td>\n",
       "      <td>0.052324</td>\n",
       "      <td>0.424048</td>\n",
       "      <td>0.270357</td>\n",
       "      <td>0.226157</td>\n",
       "      <td>-0.329481</td>\n",
       "      <td>0.032869</td>\n",
       "      <td>0.064304</td>\n",
       "      <td>1</td>\n",
       "    </tr>\n",
       "    <tr>\n",
       "      <th>2</th>\n",
       "      <td>-0.172950</td>\n",
       "      <td>0.240997</td>\n",
       "      <td>0.093098</td>\n",
       "      <td>0.053779</td>\n",
       "      <td>0.063619</td>\n",
       "      <td>-0.593255</td>\n",
       "      <td>0.129455</td>\n",
       "      <td>0.637650</td>\n",
       "      <td>-0.116723</td>\n",
       "      <td>-0.094200</td>\n",
       "      <td>...</td>\n",
       "      <td>0.141061</td>\n",
       "      <td>0.020049</td>\n",
       "      <td>0.061058</td>\n",
       "      <td>0.425732</td>\n",
       "      <td>0.279681</td>\n",
       "      <td>0.234716</td>\n",
       "      <td>-0.334138</td>\n",
       "      <td>0.022709</td>\n",
       "      <td>0.061556</td>\n",
       "      <td>0</td>\n",
       "    </tr>\n",
       "  </tbody>\n",
       "</table>\n",
       "<p>3 rows × 101 columns</p>\n",
       "</div>"
      ],
      "text/plain": [
       "          0         1         2         3         4         5         6  \\\n",
       "0 -0.177530  0.248963  0.094070  0.050858  0.072218 -0.608193  0.147326   \n",
       "1 -0.165249  0.240487  0.096757  0.049706  0.068211 -0.567540  0.141421   \n",
       "2 -0.172950  0.240997  0.093098  0.053779  0.063619 -0.593255  0.129455   \n",
       "\n",
       "          7         8         9  ...        91        92        93        94  \\\n",
       "0  0.659613 -0.117829 -0.098894  ...  0.145704  0.019573  0.054691  0.442551   \n",
       "1  0.620618 -0.113079 -0.094885  ...  0.131723  0.015233  0.052324  0.424048   \n",
       "2  0.637650 -0.116723 -0.094200  ...  0.141061  0.020049  0.061058  0.425732   \n",
       "\n",
       "         95        96        97        98        99  output  \n",
       "0  0.287047  0.251802 -0.350108  0.029262  0.073207       1  \n",
       "1  0.270357  0.226157 -0.329481  0.032869  0.064304       1  \n",
       "2  0.279681  0.234716 -0.334138  0.022709  0.061556       0  \n",
       "\n",
       "[3 rows x 101 columns]"
      ]
     },
     "execution_count": 73,
     "metadata": {},
     "output_type": "execute_result"
    }
   ],
   "source": [
    "df.head(3)"
   ]
  },
  {
   "cell_type": "code",
   "execution_count": 82,
   "id": "c86a07a3-be06-40c8-9f3c-391f3da62e5b",
   "metadata": {},
   "outputs": [],
   "source": [
    "df.dropna(axis = 0,inplace = True)"
   ]
  },
  {
   "cell_type": "code",
   "execution_count": 91,
   "id": "f61e6d35-4ec8-412e-b0ec-4e3842201e91",
   "metadata": {},
   "outputs": [],
   "source": [
    "X = df.drop(['output'],axis = 1)"
   ]
  },
  {
   "cell_type": "code",
   "execution_count": 92,
   "id": "32bf747e-28dc-43d5-a7c2-d2c172bde79d",
   "metadata": {},
   "outputs": [
    {
     "data": {
      "text/plain": [
       "0     0\n",
       "1     0\n",
       "2     0\n",
       "3     0\n",
       "4     0\n",
       "     ..\n",
       "95    0\n",
       "96    0\n",
       "97    0\n",
       "98    0\n",
       "99    0\n",
       "Length: 100, dtype: int64"
      ]
     },
     "execution_count": 92,
     "metadata": {},
     "output_type": "execute_result"
    }
   ],
   "source": [
    "X.isnull().sum()"
   ]
  },
  {
   "cell_type": "code",
   "execution_count": 85,
   "id": "2b3d0a74-1dc6-4fe7-a9dc-dce68e7c3cf0",
   "metadata": {},
   "outputs": [
    {
     "data": {
      "text/plain": [
       "(5512, 101)"
      ]
     },
     "execution_count": 85,
     "metadata": {},
     "output_type": "execute_result"
    }
   ],
   "source": [
    "X.shape"
   ]
  },
  {
   "cell_type": "code",
   "execution_count": 93,
   "id": "8e85d651-3974-440f-a8cc-c3a8cda8098b",
   "metadata": {},
   "outputs": [
    {
     "data": {
      "text/html": [
       "<div>\n",
       "<style scoped>\n",
       "    .dataframe tbody tr th:only-of-type {\n",
       "        vertical-align: middle;\n",
       "    }\n",
       "\n",
       "    .dataframe tbody tr th {\n",
       "        vertical-align: top;\n",
       "    }\n",
       "\n",
       "    .dataframe thead th {\n",
       "        text-align: right;\n",
       "    }\n",
       "</style>\n",
       "<table border=\"1\" class=\"dataframe\">\n",
       "  <thead>\n",
       "    <tr style=\"text-align: right;\">\n",
       "      <th></th>\n",
       "      <th>0</th>\n",
       "      <th>1</th>\n",
       "      <th>2</th>\n",
       "      <th>3</th>\n",
       "      <th>4</th>\n",
       "      <th>5</th>\n",
       "      <th>6</th>\n",
       "      <th>7</th>\n",
       "      <th>8</th>\n",
       "      <th>9</th>\n",
       "      <th>...</th>\n",
       "      <th>90</th>\n",
       "      <th>91</th>\n",
       "      <th>92</th>\n",
       "      <th>93</th>\n",
       "      <th>94</th>\n",
       "      <th>95</th>\n",
       "      <th>96</th>\n",
       "      <th>97</th>\n",
       "      <th>98</th>\n",
       "      <th>99</th>\n",
       "    </tr>\n",
       "  </thead>\n",
       "  <tbody>\n",
       "    <tr>\n",
       "      <th>0</th>\n",
       "      <td>-0.17753</td>\n",
       "      <td>0.248963</td>\n",
       "      <td>0.09407</td>\n",
       "      <td>0.050858</td>\n",
       "      <td>0.072218</td>\n",
       "      <td>-0.608193</td>\n",
       "      <td>0.147326</td>\n",
       "      <td>0.659613</td>\n",
       "      <td>-0.117829</td>\n",
       "      <td>-0.098894</td>\n",
       "      <td>...</td>\n",
       "      <td>0.318487</td>\n",
       "      <td>0.145704</td>\n",
       "      <td>0.019573</td>\n",
       "      <td>0.054691</td>\n",
       "      <td>0.442551</td>\n",
       "      <td>0.287047</td>\n",
       "      <td>0.251802</td>\n",
       "      <td>-0.350108</td>\n",
       "      <td>0.029262</td>\n",
       "      <td>0.073207</td>\n",
       "    </tr>\n",
       "  </tbody>\n",
       "</table>\n",
       "<p>1 rows × 100 columns</p>\n",
       "</div>"
      ],
      "text/plain": [
       "        0         1        2         3         4         5         6   \\\n",
       "0 -0.17753  0.248963  0.09407  0.050858  0.072218 -0.608193  0.147326   \n",
       "\n",
       "         7         8         9   ...        90        91        92        93  \\\n",
       "0  0.659613 -0.117829 -0.098894  ...  0.318487  0.145704  0.019573  0.054691   \n",
       "\n",
       "         94        95        96        97        98        99  \n",
       "0  0.442551  0.287047  0.251802 -0.350108  0.029262  0.073207  \n",
       "\n",
       "[1 rows x 100 columns]"
      ]
     },
     "execution_count": 93,
     "metadata": {},
     "output_type": "execute_result"
    }
   ],
   "source": [
    "X.head(1)"
   ]
  },
  {
   "cell_type": "code",
   "execution_count": 94,
   "id": "8c51a567-c6fd-4033-892c-d402dc01480c",
   "metadata": {},
   "outputs": [],
   "source": [
    "y = df.output"
   ]
  },
  {
   "cell_type": "code",
   "execution_count": 95,
   "id": "ea21af58-12ea-4e54-a337-0798ae9fa223",
   "metadata": {},
   "outputs": [
    {
     "data": {
      "text/plain": [
       "(5512,)"
      ]
     },
     "execution_count": 95,
     "metadata": {},
     "output_type": "execute_result"
    }
   ],
   "source": [
    "y.shape"
   ]
  },
  {
   "cell_type": "code",
   "execution_count": 88,
   "id": "860055ba-39de-4032-8221-49819cdfb6ad",
   "metadata": {},
   "outputs": [],
   "source": [
    "from sklearn.model_selection import train_test_split"
   ]
  },
  {
   "cell_type": "code",
   "execution_count": 96,
   "id": "636279c1-6bad-4663-9280-8631e951e6d0",
   "metadata": {},
   "outputs": [],
   "source": [
    "Xtrain,Xtest,ytrain,ytest = train_test_split(X,y,test_size = 0.2,random_state=42)"
   ]
  },
  {
   "cell_type": "code",
   "execution_count": 97,
   "id": "72a8d170-b533-4649-8274-fd674c3c972f",
   "metadata": {},
   "outputs": [],
   "source": [
    "from sklearn.ensemble import RandomForestClassifier as RFC "
   ]
  },
  {
   "cell_type": "code",
   "execution_count": 98,
   "id": "da267015-a990-47e5-b8ca-14061ef10749",
   "metadata": {},
   "outputs": [],
   "source": [
    "clf = RFC()"
   ]
  },
  {
   "cell_type": "code",
   "execution_count": 99,
   "id": "3ddbfeaf-cf90-47b8-8e7f-b55c6a3974cf",
   "metadata": {},
   "outputs": [
    {
     "data": {
      "text/html": [
       "<style>#sk-container-id-1 {\n",
       "  /* Definition of color scheme common for light and dark mode */\n",
       "  --sklearn-color-text: #000;\n",
       "  --sklearn-color-text-muted: #666;\n",
       "  --sklearn-color-line: gray;\n",
       "  /* Definition of color scheme for unfitted estimators */\n",
       "  --sklearn-color-unfitted-level-0: #fff5e6;\n",
       "  --sklearn-color-unfitted-level-1: #f6e4d2;\n",
       "  --sklearn-color-unfitted-level-2: #ffe0b3;\n",
       "  --sklearn-color-unfitted-level-3: chocolate;\n",
       "  /* Definition of color scheme for fitted estimators */\n",
       "  --sklearn-color-fitted-level-0: #f0f8ff;\n",
       "  --sklearn-color-fitted-level-1: #d4ebff;\n",
       "  --sklearn-color-fitted-level-2: #b3dbfd;\n",
       "  --sklearn-color-fitted-level-3: cornflowerblue;\n",
       "\n",
       "  /* Specific color for light theme */\n",
       "  --sklearn-color-text-on-default-background: var(--sg-text-color, var(--theme-code-foreground, var(--jp-content-font-color1, black)));\n",
       "  --sklearn-color-background: var(--sg-background-color, var(--theme-background, var(--jp-layout-color0, white)));\n",
       "  --sklearn-color-border-box: var(--sg-text-color, var(--theme-code-foreground, var(--jp-content-font-color1, black)));\n",
       "  --sklearn-color-icon: #696969;\n",
       "\n",
       "  @media (prefers-color-scheme: dark) {\n",
       "    /* Redefinition of color scheme for dark theme */\n",
       "    --sklearn-color-text-on-default-background: var(--sg-text-color, var(--theme-code-foreground, var(--jp-content-font-color1, white)));\n",
       "    --sklearn-color-background: var(--sg-background-color, var(--theme-background, var(--jp-layout-color0, #111)));\n",
       "    --sklearn-color-border-box: var(--sg-text-color, var(--theme-code-foreground, var(--jp-content-font-color1, white)));\n",
       "    --sklearn-color-icon: #878787;\n",
       "  }\n",
       "}\n",
       "\n",
       "#sk-container-id-1 {\n",
       "  color: var(--sklearn-color-text);\n",
       "}\n",
       "\n",
       "#sk-container-id-1 pre {\n",
       "  padding: 0;\n",
       "}\n",
       "\n",
       "#sk-container-id-1 input.sk-hidden--visually {\n",
       "  border: 0;\n",
       "  clip: rect(1px 1px 1px 1px);\n",
       "  clip: rect(1px, 1px, 1px, 1px);\n",
       "  height: 1px;\n",
       "  margin: -1px;\n",
       "  overflow: hidden;\n",
       "  padding: 0;\n",
       "  position: absolute;\n",
       "  width: 1px;\n",
       "}\n",
       "\n",
       "#sk-container-id-1 div.sk-dashed-wrapped {\n",
       "  border: 1px dashed var(--sklearn-color-line);\n",
       "  margin: 0 0.4em 0.5em 0.4em;\n",
       "  box-sizing: border-box;\n",
       "  padding-bottom: 0.4em;\n",
       "  background-color: var(--sklearn-color-background);\n",
       "}\n",
       "\n",
       "#sk-container-id-1 div.sk-container {\n",
       "  /* jupyter's `normalize.less` sets `[hidden] { display: none; }`\n",
       "     but bootstrap.min.css set `[hidden] { display: none !important; }`\n",
       "     so we also need the `!important` here to be able to override the\n",
       "     default hidden behavior on the sphinx rendered scikit-learn.org.\n",
       "     See: https://github.com/scikit-learn/scikit-learn/issues/21755 */\n",
       "  display: inline-block !important;\n",
       "  position: relative;\n",
       "}\n",
       "\n",
       "#sk-container-id-1 div.sk-text-repr-fallback {\n",
       "  display: none;\n",
       "}\n",
       "\n",
       "div.sk-parallel-item,\n",
       "div.sk-serial,\n",
       "div.sk-item {\n",
       "  /* draw centered vertical line to link estimators */\n",
       "  background-image: linear-gradient(var(--sklearn-color-text-on-default-background), var(--sklearn-color-text-on-default-background));\n",
       "  background-size: 2px 100%;\n",
       "  background-repeat: no-repeat;\n",
       "  background-position: center center;\n",
       "}\n",
       "\n",
       "/* Parallel-specific style estimator block */\n",
       "\n",
       "#sk-container-id-1 div.sk-parallel-item::after {\n",
       "  content: \"\";\n",
       "  width: 100%;\n",
       "  border-bottom: 2px solid var(--sklearn-color-text-on-default-background);\n",
       "  flex-grow: 1;\n",
       "}\n",
       "\n",
       "#sk-container-id-1 div.sk-parallel {\n",
       "  display: flex;\n",
       "  align-items: stretch;\n",
       "  justify-content: center;\n",
       "  background-color: var(--sklearn-color-background);\n",
       "  position: relative;\n",
       "}\n",
       "\n",
       "#sk-container-id-1 div.sk-parallel-item {\n",
       "  display: flex;\n",
       "  flex-direction: column;\n",
       "}\n",
       "\n",
       "#sk-container-id-1 div.sk-parallel-item:first-child::after {\n",
       "  align-self: flex-end;\n",
       "  width: 50%;\n",
       "}\n",
       "\n",
       "#sk-container-id-1 div.sk-parallel-item:last-child::after {\n",
       "  align-self: flex-start;\n",
       "  width: 50%;\n",
       "}\n",
       "\n",
       "#sk-container-id-1 div.sk-parallel-item:only-child::after {\n",
       "  width: 0;\n",
       "}\n",
       "\n",
       "/* Serial-specific style estimator block */\n",
       "\n",
       "#sk-container-id-1 div.sk-serial {\n",
       "  display: flex;\n",
       "  flex-direction: column;\n",
       "  align-items: center;\n",
       "  background-color: var(--sklearn-color-background);\n",
       "  padding-right: 1em;\n",
       "  padding-left: 1em;\n",
       "}\n",
       "\n",
       "\n",
       "/* Toggleable style: style used for estimator/Pipeline/ColumnTransformer box that is\n",
       "clickable and can be expanded/collapsed.\n",
       "- Pipeline and ColumnTransformer use this feature and define the default style\n",
       "- Estimators will overwrite some part of the style using the `sk-estimator` class\n",
       "*/\n",
       "\n",
       "/* Pipeline and ColumnTransformer style (default) */\n",
       "\n",
       "#sk-container-id-1 div.sk-toggleable {\n",
       "  /* Default theme specific background. It is overwritten whether we have a\n",
       "  specific estimator or a Pipeline/ColumnTransformer */\n",
       "  background-color: var(--sklearn-color-background);\n",
       "}\n",
       "\n",
       "/* Toggleable label */\n",
       "#sk-container-id-1 label.sk-toggleable__label {\n",
       "  cursor: pointer;\n",
       "  display: flex;\n",
       "  width: 100%;\n",
       "  margin-bottom: 0;\n",
       "  padding: 0.5em;\n",
       "  box-sizing: border-box;\n",
       "  text-align: center;\n",
       "  align-items: start;\n",
       "  justify-content: space-between;\n",
       "  gap: 0.5em;\n",
       "}\n",
       "\n",
       "#sk-container-id-1 label.sk-toggleable__label .caption {\n",
       "  font-size: 0.6rem;\n",
       "  font-weight: lighter;\n",
       "  color: var(--sklearn-color-text-muted);\n",
       "}\n",
       "\n",
       "#sk-container-id-1 label.sk-toggleable__label-arrow:before {\n",
       "  /* Arrow on the left of the label */\n",
       "  content: \"▸\";\n",
       "  float: left;\n",
       "  margin-right: 0.25em;\n",
       "  color: var(--sklearn-color-icon);\n",
       "}\n",
       "\n",
       "#sk-container-id-1 label.sk-toggleable__label-arrow:hover:before {\n",
       "  color: var(--sklearn-color-text);\n",
       "}\n",
       "\n",
       "/* Toggleable content - dropdown */\n",
       "\n",
       "#sk-container-id-1 div.sk-toggleable__content {\n",
       "  max-height: 0;\n",
       "  max-width: 0;\n",
       "  overflow: hidden;\n",
       "  text-align: left;\n",
       "  /* unfitted */\n",
       "  background-color: var(--sklearn-color-unfitted-level-0);\n",
       "}\n",
       "\n",
       "#sk-container-id-1 div.sk-toggleable__content.fitted {\n",
       "  /* fitted */\n",
       "  background-color: var(--sklearn-color-fitted-level-0);\n",
       "}\n",
       "\n",
       "#sk-container-id-1 div.sk-toggleable__content pre {\n",
       "  margin: 0.2em;\n",
       "  border-radius: 0.25em;\n",
       "  color: var(--sklearn-color-text);\n",
       "  /* unfitted */\n",
       "  background-color: var(--sklearn-color-unfitted-level-0);\n",
       "}\n",
       "\n",
       "#sk-container-id-1 div.sk-toggleable__content.fitted pre {\n",
       "  /* unfitted */\n",
       "  background-color: var(--sklearn-color-fitted-level-0);\n",
       "}\n",
       "\n",
       "#sk-container-id-1 input.sk-toggleable__control:checked~div.sk-toggleable__content {\n",
       "  /* Expand drop-down */\n",
       "  max-height: 200px;\n",
       "  max-width: 100%;\n",
       "  overflow: auto;\n",
       "}\n",
       "\n",
       "#sk-container-id-1 input.sk-toggleable__control:checked~label.sk-toggleable__label-arrow:before {\n",
       "  content: \"▾\";\n",
       "}\n",
       "\n",
       "/* Pipeline/ColumnTransformer-specific style */\n",
       "\n",
       "#sk-container-id-1 div.sk-label input.sk-toggleable__control:checked~label.sk-toggleable__label {\n",
       "  color: var(--sklearn-color-text);\n",
       "  background-color: var(--sklearn-color-unfitted-level-2);\n",
       "}\n",
       "\n",
       "#sk-container-id-1 div.sk-label.fitted input.sk-toggleable__control:checked~label.sk-toggleable__label {\n",
       "  background-color: var(--sklearn-color-fitted-level-2);\n",
       "}\n",
       "\n",
       "/* Estimator-specific style */\n",
       "\n",
       "/* Colorize estimator box */\n",
       "#sk-container-id-1 div.sk-estimator input.sk-toggleable__control:checked~label.sk-toggleable__label {\n",
       "  /* unfitted */\n",
       "  background-color: var(--sklearn-color-unfitted-level-2);\n",
       "}\n",
       "\n",
       "#sk-container-id-1 div.sk-estimator.fitted input.sk-toggleable__control:checked~label.sk-toggleable__label {\n",
       "  /* fitted */\n",
       "  background-color: var(--sklearn-color-fitted-level-2);\n",
       "}\n",
       "\n",
       "#sk-container-id-1 div.sk-label label.sk-toggleable__label,\n",
       "#sk-container-id-1 div.sk-label label {\n",
       "  /* The background is the default theme color */\n",
       "  color: var(--sklearn-color-text-on-default-background);\n",
       "}\n",
       "\n",
       "/* On hover, darken the color of the background */\n",
       "#sk-container-id-1 div.sk-label:hover label.sk-toggleable__label {\n",
       "  color: var(--sklearn-color-text);\n",
       "  background-color: var(--sklearn-color-unfitted-level-2);\n",
       "}\n",
       "\n",
       "/* Label box, darken color on hover, fitted */\n",
       "#sk-container-id-1 div.sk-label.fitted:hover label.sk-toggleable__label.fitted {\n",
       "  color: var(--sklearn-color-text);\n",
       "  background-color: var(--sklearn-color-fitted-level-2);\n",
       "}\n",
       "\n",
       "/* Estimator label */\n",
       "\n",
       "#sk-container-id-1 div.sk-label label {\n",
       "  font-family: monospace;\n",
       "  font-weight: bold;\n",
       "  display: inline-block;\n",
       "  line-height: 1.2em;\n",
       "}\n",
       "\n",
       "#sk-container-id-1 div.sk-label-container {\n",
       "  text-align: center;\n",
       "}\n",
       "\n",
       "/* Estimator-specific */\n",
       "#sk-container-id-1 div.sk-estimator {\n",
       "  font-family: monospace;\n",
       "  border: 1px dotted var(--sklearn-color-border-box);\n",
       "  border-radius: 0.25em;\n",
       "  box-sizing: border-box;\n",
       "  margin-bottom: 0.5em;\n",
       "  /* unfitted */\n",
       "  background-color: var(--sklearn-color-unfitted-level-0);\n",
       "}\n",
       "\n",
       "#sk-container-id-1 div.sk-estimator.fitted {\n",
       "  /* fitted */\n",
       "  background-color: var(--sklearn-color-fitted-level-0);\n",
       "}\n",
       "\n",
       "/* on hover */\n",
       "#sk-container-id-1 div.sk-estimator:hover {\n",
       "  /* unfitted */\n",
       "  background-color: var(--sklearn-color-unfitted-level-2);\n",
       "}\n",
       "\n",
       "#sk-container-id-1 div.sk-estimator.fitted:hover {\n",
       "  /* fitted */\n",
       "  background-color: var(--sklearn-color-fitted-level-2);\n",
       "}\n",
       "\n",
       "/* Specification for estimator info (e.g. \"i\" and \"?\") */\n",
       "\n",
       "/* Common style for \"i\" and \"?\" */\n",
       "\n",
       ".sk-estimator-doc-link,\n",
       "a:link.sk-estimator-doc-link,\n",
       "a:visited.sk-estimator-doc-link {\n",
       "  float: right;\n",
       "  font-size: smaller;\n",
       "  line-height: 1em;\n",
       "  font-family: monospace;\n",
       "  background-color: var(--sklearn-color-background);\n",
       "  border-radius: 1em;\n",
       "  height: 1em;\n",
       "  width: 1em;\n",
       "  text-decoration: none !important;\n",
       "  margin-left: 0.5em;\n",
       "  text-align: center;\n",
       "  /* unfitted */\n",
       "  border: var(--sklearn-color-unfitted-level-1) 1pt solid;\n",
       "  color: var(--sklearn-color-unfitted-level-1);\n",
       "}\n",
       "\n",
       ".sk-estimator-doc-link.fitted,\n",
       "a:link.sk-estimator-doc-link.fitted,\n",
       "a:visited.sk-estimator-doc-link.fitted {\n",
       "  /* fitted */\n",
       "  border: var(--sklearn-color-fitted-level-1) 1pt solid;\n",
       "  color: var(--sklearn-color-fitted-level-1);\n",
       "}\n",
       "\n",
       "/* On hover */\n",
       "div.sk-estimator:hover .sk-estimator-doc-link:hover,\n",
       ".sk-estimator-doc-link:hover,\n",
       "div.sk-label-container:hover .sk-estimator-doc-link:hover,\n",
       ".sk-estimator-doc-link:hover {\n",
       "  /* unfitted */\n",
       "  background-color: var(--sklearn-color-unfitted-level-3);\n",
       "  color: var(--sklearn-color-background);\n",
       "  text-decoration: none;\n",
       "}\n",
       "\n",
       "div.sk-estimator.fitted:hover .sk-estimator-doc-link.fitted:hover,\n",
       ".sk-estimator-doc-link.fitted:hover,\n",
       "div.sk-label-container:hover .sk-estimator-doc-link.fitted:hover,\n",
       ".sk-estimator-doc-link.fitted:hover {\n",
       "  /* fitted */\n",
       "  background-color: var(--sklearn-color-fitted-level-3);\n",
       "  color: var(--sklearn-color-background);\n",
       "  text-decoration: none;\n",
       "}\n",
       "\n",
       "/* Span, style for the box shown on hovering the info icon */\n",
       ".sk-estimator-doc-link span {\n",
       "  display: none;\n",
       "  z-index: 9999;\n",
       "  position: relative;\n",
       "  font-weight: normal;\n",
       "  right: .2ex;\n",
       "  padding: .5ex;\n",
       "  margin: .5ex;\n",
       "  width: min-content;\n",
       "  min-width: 20ex;\n",
       "  max-width: 50ex;\n",
       "  color: var(--sklearn-color-text);\n",
       "  box-shadow: 2pt 2pt 4pt #999;\n",
       "  /* unfitted */\n",
       "  background: var(--sklearn-color-unfitted-level-0);\n",
       "  border: .5pt solid var(--sklearn-color-unfitted-level-3);\n",
       "}\n",
       "\n",
       ".sk-estimator-doc-link.fitted span {\n",
       "  /* fitted */\n",
       "  background: var(--sklearn-color-fitted-level-0);\n",
       "  border: var(--sklearn-color-fitted-level-3);\n",
       "}\n",
       "\n",
       ".sk-estimator-doc-link:hover span {\n",
       "  display: block;\n",
       "}\n",
       "\n",
       "/* \"?\"-specific style due to the `<a>` HTML tag */\n",
       "\n",
       "#sk-container-id-1 a.estimator_doc_link {\n",
       "  float: right;\n",
       "  font-size: 1rem;\n",
       "  line-height: 1em;\n",
       "  font-family: monospace;\n",
       "  background-color: var(--sklearn-color-background);\n",
       "  border-radius: 1rem;\n",
       "  height: 1rem;\n",
       "  width: 1rem;\n",
       "  text-decoration: none;\n",
       "  /* unfitted */\n",
       "  color: var(--sklearn-color-unfitted-level-1);\n",
       "  border: var(--sklearn-color-unfitted-level-1) 1pt solid;\n",
       "}\n",
       "\n",
       "#sk-container-id-1 a.estimator_doc_link.fitted {\n",
       "  /* fitted */\n",
       "  border: var(--sklearn-color-fitted-level-1) 1pt solid;\n",
       "  color: var(--sklearn-color-fitted-level-1);\n",
       "}\n",
       "\n",
       "/* On hover */\n",
       "#sk-container-id-1 a.estimator_doc_link:hover {\n",
       "  /* unfitted */\n",
       "  background-color: var(--sklearn-color-unfitted-level-3);\n",
       "  color: var(--sklearn-color-background);\n",
       "  text-decoration: none;\n",
       "}\n",
       "\n",
       "#sk-container-id-1 a.estimator_doc_link.fitted:hover {\n",
       "  /* fitted */\n",
       "  background-color: var(--sklearn-color-fitted-level-3);\n",
       "}\n",
       "</style><div id=\"sk-container-id-1\" class=\"sk-top-container\"><div class=\"sk-text-repr-fallback\"><pre>RandomForestClassifier()</pre><b>In a Jupyter environment, please rerun this cell to show the HTML representation or trust the notebook. <br />On GitHub, the HTML representation is unable to render, please try loading this page with nbviewer.org.</b></div><div class=\"sk-container\" hidden><div class=\"sk-item\"><div class=\"sk-estimator fitted sk-toggleable\"><input class=\"sk-toggleable__control sk-hidden--visually\" id=\"sk-estimator-id-1\" type=\"checkbox\" checked><label for=\"sk-estimator-id-1\" class=\"sk-toggleable__label fitted sk-toggleable__label-arrow\"><div><div>RandomForestClassifier</div></div><div><a class=\"sk-estimator-doc-link fitted\" rel=\"noreferrer\" target=\"_blank\" href=\"https://scikit-learn.org/1.6/modules/generated/sklearn.ensemble.RandomForestClassifier.html\">?<span>Documentation for RandomForestClassifier</span></a><span class=\"sk-estimator-doc-link fitted\">i<span>Fitted</span></span></div></label><div class=\"sk-toggleable__content fitted\"><pre>RandomForestClassifier()</pre></div> </div></div></div></div>"
      ],
      "text/plain": [
       "RandomForestClassifier()"
      ]
     },
     "execution_count": 99,
     "metadata": {},
     "output_type": "execute_result"
    }
   ],
   "source": [
    "clf.fit(Xtrain,ytrain)"
   ]
  },
  {
   "cell_type": "code",
   "execution_count": 100,
   "id": "f289ded8-3770-4e2e-b33f-3d2fb2b70a10",
   "metadata": {},
   "outputs": [],
   "source": [
    "ypred = clf.predict(Xtest)"
   ]
  },
  {
   "cell_type": "code",
   "execution_count": 101,
   "id": "bfee32b1-98c1-4eed-b0ab-f1857baad32a",
   "metadata": {},
   "outputs": [],
   "source": [
    "from sklearn.metrics import accuracy_score,classification_report"
   ]
  },
  {
   "cell_type": "code",
   "execution_count": 102,
   "id": "a9943919-c8d4-4edc-8e79-1116f8ee34fd",
   "metadata": {},
   "outputs": [
    {
     "data": {
      "text/plain": [
       "0.9755213055303718"
      ]
     },
     "execution_count": 102,
     "metadata": {},
     "output_type": "execute_result"
    }
   ],
   "source": [
    "accuracy_score(ytest,ypred)"
   ]
  },
  {
   "cell_type": "code",
   "execution_count": 103,
   "id": "d186c996-e4d1-4111-aa2a-ee91942d1afc",
   "metadata": {},
   "outputs": [
    {
     "name": "stdout",
     "output_type": "stream",
     "text": [
      "              precision    recall  f1-score   support\n",
      "\n",
      "           0       0.92      0.88      0.90       136\n",
      "           1       0.98      0.99      0.99       967\n",
      "\n",
      "    accuracy                           0.98      1103\n",
      "   macro avg       0.95      0.93      0.94      1103\n",
      "weighted avg       0.98      0.98      0.98      1103\n",
      "\n"
     ]
    }
   ],
   "source": [
    "print(classification_report(ytest,ypred))"
   ]
  }
 ],
 "metadata": {
  "kernelspec": {
   "display_name": "Python 3 (ipykernel)",
   "language": "python",
   "name": "python3"
  },
  "language_info": {
   "codemirror_mode": {
    "name": "ipython",
    "version": 3
   },
   "file_extension": ".py",
   "mimetype": "text/x-python",
   "name": "python",
   "nbconvert_exporter": "python",
   "pygments_lexer": "ipython3",
   "version": "3.12.10"
  }
 },
 "nbformat": 4,
 "nbformat_minor": 5
}
